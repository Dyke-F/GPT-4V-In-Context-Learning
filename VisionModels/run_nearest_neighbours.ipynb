{
 "cells": [
  {
   "cell_type": "code",
   "execution_count": 1,
   "metadata": {},
   "outputs": [],
   "source": [
    "from pathlib import Path\n",
    "from fewshot.feature_extractors import load_feature_extractor, FEATURE_EXTRACTORS\n",
    "from PIL import Image\n",
    "from tqdm import tqdm\n",
    "from torchvision import transforms\n",
    "import pandas as pd\n",
    "\n",
    "DATA_DIR = Path(\"/app/data/CRC-100K-VIT/\")\n",
    "\n",
    "# Set feature extractor here!\n",
    "FEATURE_EXTRACTOR = \"phikon\"\n",
    "# FEATURE_EXTRACTOR = \"vit\"\n",
    "FEATURE_EXTRACTOR = \"resnet50\"\n",
    "\n",
    "print(f\"Available feature extractors: {', '.join(FEATURE_EXTRACTORS.keys())}\")\n",
    "print(f\"Using feature extractor: {FEATURE_EXTRACTOR}\")"
   ]
  },
  {
   "cell_type": "code",
   "execution_count": 2,
   "metadata": {},
   "outputs": [],
   "source": [
    "feature_extractor = load_feature_extractor(FEATURE_EXTRACTOR)\n",
    "\n",
    "images = list(DATA_DIR.glob(\"*.png\"))"
   ]
  },
  {
   "cell_type": "code",
   "execution_count": 18,
   "metadata": {},
   "outputs": [
    {
     "name": "stderr",
     "output_type": "stream",
     "text": [
      "Extracting features: 100%|██████████| 135/135 [00:18<00:00,  7.18it/s]\n"
     ]
    }
   ],
   "source": [
    "to_tensor = transforms.ToTensor()\n",
    "\n",
    "# Extract features\n",
    "features = {\n",
    "    image.name: feature_extractor(to_tensor(Image.open(image)).unsqueeze(0)).squeeze(0)\n",
    "    for image in tqdm(images, desc=\"Extracting features\")\n",
    "}"
   ]
  },
  {
   "cell_type": "code",
   "execution_count": 19,
   "metadata": {},
   "outputs": [
    {
     "name": "stdout",
     "output_type": "stream",
     "text": [
      "Accuracy on GPT results files using nearest neighbor (L2 distance) on features extracted by resnet50:\n",
      "results_ten_shot_run_high_interleaved_run2.csv: 0.87\n",
      "results_ten_shot_run_high_interleaved_run1.csv: 0.77\n",
      "results_five_shot_run_high_interleaved_run1.csv: 0.77\n",
      "results_five_shot_run_high_interleaved_run2.csv: 0.73\n",
      "results_three_shot_run_high_interleaved_run1.csv: 0.70\n",
      "results_three_shot_run_high_interleaved_run2.csv: 0.60\n"
     ]
    }
   ],
   "source": [
    "binary_dir = DATA_DIR / \"binary\"\n",
    "predictions_dir = DATA_DIR / \"predictions\"\n",
    "predictions_dir.mkdir(exist_ok=True)\n",
    "\n",
    "gpt_results_files = list(binary_dir.glob(\"**/*.csv\"))\n",
    "\n",
    "print(f\"Accuracy on GPT results files using nearest neighbor (L2 distance) on features extracted by {feature_extractor.name}:\")\n",
    "\n",
    "for gpt_results_file in gpt_results_files:\n",
    "    if \"zero_shot\" in gpt_results_file.name:\n",
    "        continue\n",
    "    gpt_results = pd.read_csv(gpt_results_file, index_col=0, header=0)\n",
    "    gpt_results[\"train_data\"] = gpt_results[\"train_data\"].map(eval)\n",
    "\n",
    "    for i, experiment in gpt_results.iterrows():\n",
    "        test_label = experiment[\"label\"]\n",
    "        test_image = experiment[\"fname\"] + \".png\"\n",
    "        train_images = experiment[\"train_data\"]\n",
    "\n",
    "        # Get features of training and test images\n",
    "        train_features = {\n",
    "            features[image]: label\n",
    "            for image, label in train_images.items()\n",
    "        }\n",
    "        test_feature = features[test_image]\n",
    "\n",
    "        # Compute distance to each training feature\n",
    "        dists = [\n",
    "            ((feature - test_feature).norm().item(), label)\n",
    "            for feature, label in train_features.items()\n",
    "        ]\n",
    "\n",
    "        # Get label of closest training feature\n",
    "        _, pred_label = min(dists)\n",
    "\n",
    "        gpt_results.loc[i, \"pred_label\"] = pred_label\n",
    "    \n",
    "    output_file = predictions_dir / gpt_results_file.relative_to(binary_dir)\n",
    "    output_file.parent.mkdir(exist_ok=True, parents=True)\n",
    "    gpt_results.to_csv(output_file)\n",
    "\n",
    "    accuracy = (gpt_results[\"label\"] == gpt_results[\"pred_label\"]).mean()\n",
    "    print(f\"{gpt_results_file.name}: {accuracy:.2f}\")"
   ]
  },
  {
   "cell_type": "code",
   "execution_count": null,
   "metadata": {},
   "outputs": [],
   "source": []
  }
 ],
 "metadata": {
  "kernelspec": {
   "display_name": "env",
   "language": "python",
   "name": "python3"
  },
  "language_info": {
   "codemirror_mode": {
    "name": "ipython",
    "version": 3
   },
   "file_extension": ".py",
   "mimetype": "text/x-python",
   "name": "python",
   "nbconvert_exporter": "python",
   "pygments_lexer": "ipython3",
   "version": "3.11.6"
  }
 },
 "nbformat": 4,
 "nbformat_minor": 2
}
