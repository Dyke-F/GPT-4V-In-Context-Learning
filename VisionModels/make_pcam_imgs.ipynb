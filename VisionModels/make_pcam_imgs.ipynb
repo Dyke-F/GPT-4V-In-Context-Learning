{
 "cells": [
  {
   "cell_type": "code",
   "execution_count": 1,
   "metadata": {},
   "outputs": [],
   "source": [
    "from pathlib import Path\n",
    "import random\n",
    "import h5py\n",
    "from PIL import Image\n",
    "import pandas as pd\n",
    "import os\n",
    "import shutil\n",
    "import numpy as np\n",
    "import matplotlib.pyplot as plt\n",
    "\n",
    "random.seed(42)\n",
    "pd.set_option(\"display.max_colwidth\", None)"
   ]
  },
  {
   "cell_type": "code",
   "execution_count": 28,
   "metadata": {},
   "outputs": [],
   "source": [
    "def make_pcam_data(input_dir, output_dir):\n",
    "\n",
    "    input_dir = Path(input_dir).resolve()\n",
    "    paths = list(input_dir.rglob(\"*.h5\"))\n",
    "    images = [p for p in paths if \"test_x\" in str(p)][0]\n",
    "    labels = [p for p in paths if \"test_y\" in str(p)][0]\n",
    "    \n",
    "    with h5py.File(images, \"r\") as h5imgs:\n",
    "        images = h5imgs[\"x\"][:]\n",
    "\n",
    "    with h5py.File(labels, \"r\") as h5labels:\n",
    "        labels = h5labels[\"y\"][:]\n",
    "\n",
    "    labels = labels.flatten()\n",
    "    \n",
    "    # check that we are writing into an empty directory\n",
    "    img_dir = input_dir.parent / \"full_imgs\"\n",
    "    if os.path.exists(img_dir):\n",
    "        shutil.rmtree(img_dir)\n",
    "    os.makedirs(img_dir)\n",
    "\n",
    "    print(images.shape, type(images))\n",
    "    print(labels.shape, type(labels))\n",
    "\n",
    "    samples = []\n",
    "    for idx, (img, label) in enumerate(zip(images, labels, strict=True)):\n",
    "        img = Image.fromarray(img)\n",
    "        fname = f\"{label}-PCAM-{idx}\"\n",
    "        save_name = f\"{img_dir}/{fname}.png\"\n",
    "        img.save(save_name)\n",
    "        samples.append([fname, label, [save_name]])\n",
    "    \n",
    "    samples = pd.DataFrame(samples, columns=[\"fname\", \"label\", \"path\"])\n",
    "    samples.rename(columns={\"label\": \"orig_label\"}, inplace=True)\n",
    "    samples[\"label\"] = samples.orig_label.map({1: \"TUM\", 0: \"NORM\"})\n",
    "    if not os.path.exists(output_dir):\n",
    "        os.makedirs(output_dir)\n",
    "    samples.to_csv(f\"{output_dir}/pcam_full_samples.csv\", index=False)\n"
   ]
  },
  {
   "cell_type": "code",
   "execution_count": null,
   "metadata": {},
   "outputs": [],
   "source": [
    "### Set variables\n",
    "\n",
    "h5paths = \"\"\n",
    "output_dir = \"\"\n",
    "\n",
    "# make_pcam_data(h5paths, output_dir)"
   ]
  }
 ],
 "metadata": {
  "kernelspec": {
   "display_name": "venv",
   "language": "python",
   "name": "python3"
  },
  "language_info": {
   "codemirror_mode": {
    "name": "ipython",
    "version": 3
   },
   "file_extension": ".py",
   "mimetype": "text/x-python",
   "name": "python",
   "nbconvert_exporter": "python",
   "pygments_lexer": "ipython3",
   "version": "3.11.5"
  }
 },
 "nbformat": 4,
 "nbformat_minor": 2
}
