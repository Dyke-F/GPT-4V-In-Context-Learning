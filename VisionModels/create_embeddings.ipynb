{
 "cells": [
  {
   "cell_type": "code",
   "execution_count": null,
   "metadata": {},
   "outputs": [],
   "source": [
    "from pathlib import Path\n",
    "from tqdm import tqdm\n",
    "import torch\n",
    "from torch import nn\n",
    "import torch.nn.functional as F\n",
    "from torchvision import transforms\n",
    "from PIL import Image\n",
    "import pandas as pd\n",
    "import os\n",
    "import numpy as np\n",
    "import sys\n",
    "import os\n",
    "# !{sys.executable} -m pip install loguru\n",
    "\n",
    "parent_dir = os.path.dirname(os.path.abspath(\"__file__\"))  # If your notebook is in VisionModels, this will be its path\n",
    "sys.path.append(parent_dir)\n",
    "\n",
    "from fewshot.feature_extractors import load_feature_extractor, FEATURE_EXTRACTORS\n"
   ]
  },
  {
   "cell_type": "code",
   "execution_count": null,
   "metadata": {},
   "outputs": [],
   "source": [
    "# Set feature extractor here!\n",
    "FEATURE_EXTRACTOR = \"phikon\"\n",
    "# FEATURE_EXTRACTOR = \"vit\"\n",
    "# FEATURE_EXTRACTOR = \"resnet50\""
   ]
  },
  {
   "cell_type": "code",
   "execution_count": null,
   "metadata": {},
   "outputs": [],
   "source": [
    "IMAGE_DIRS = {\n",
    "    \"CRC100K\": Path(\"./data/CRC-VAL-HE-7K-png\"),\n",
    "    \"MSSI\": Path(\"./data/MSSI\"),\n",
    "    \"PCAM\": Path(\"./data/PCam/full_imgs\"),\n",
    "}\n",
    "\n",
    "# Set feature extractor here!\n",
    "FEATURE_EXTRACTOR = \"phikon\"\n",
    "# FEATURE_EXTRACTOR = \"vit\"\n",
    "# FEATURE_EXTRACTOR = \"resnet50\"\n",
    "\n",
    "FEATURE_DIM = 768 if FEATURE_EXTRACTOR not in {\"resnet50\", \"retccl\", \"bt\", \"swav\", \"mocov2\"} else 2048\n",
    "\n",
    "print(f\"Available feature extractors: {', '.join(FEATURE_EXTRACTORS.keys())}\")\n",
    "print(f\"Using feature extractor: {FEATURE_EXTRACTOR}\")\n",
    "\n",
    "backend = torch.device(\"mps\" if torch.backends.mps.is_available() else \"cpu\")\n",
    "feature_extractor = load_feature_extractor(FEATURE_EXTRACTOR)\n",
    "feature_extractor = feature_extractor.to(backend)\n",
    "feature_extractor.eval()\n",
    "\n",
    "to_tensor = transforms.ToTensor()"
   ]
  },
  {
   "cell_type": "code",
   "execution_count": null,
   "metadata": {},
   "outputs": [],
   "source": [
    "def create_img_embeddings(dataset_name):\n",
    "    image_paths = list(IMAGE_DIRS[dataset_name].rglob(\"**/*.png\"))\n",
    "\n",
    "    with torch.inference_mode():\n",
    "        features = {}\n",
    "        for img_path in tqdm(image_paths, desc=\"Extracting features\", leave=False):\n",
    "            img = Image.open(img_path)\n",
    "            img = to_tensor(img).unsqueeze(0).to(backend)\n",
    "            # features[img_path.name] = feature_extractor(img).squeeze().detach().cpu().numpy()\n",
    "            features[img_path] = feature_extractor(img).squeeze().detach().cpu().numpy()\n",
    "\n",
    "    vector_len = len(next(iter(features.values())))\n",
    "    struct = np.dtype([(\"name\", \"U400\"), (\"vector\", \"f4\", (vector_len,))])\n",
    "    feat_array = np.array(list(features.items()), dtype=struct)\n",
    "\n",
    "    if not os.path.exists(\"features\"):\n",
    "        os.makedirs(\"features\") \n",
    "    save_path = f\"features/{FEATURE_EXTRACTOR}_{dataset_name}_features.npy\"\n",
    "    np.save(save_path, feat_array)\n",
    "\n",
    "    print(f\"Saved features of shape {feat_array.shape} to {save_path}\")\n",
    "\n"
   ]
  },
  {
   "cell_type": "code",
   "execution_count": null,
   "metadata": {},
   "outputs": [],
   "source": [
    "def load_and_rename_embeddings(file_path):\n",
    "    feat_array = np.load(file_path, allow_pickle=True)\n",
    "\n",
    "    if feat_array.dtype.kind != 'V':\n",
    "        vector_len = feat_array[0][1].shape[0]\n",
    "        struct = np.dtype([('name', 'U10'), ('vector', 'f4', (vector_len,))])\n",
    "        feat_array = np.array([(name, vec) for name, vec in feat_array], dtype=struct)\n",
    "\n",
    "    for item in feat_array:\n",
    "        new_name = item[\"name\"].replace(\"0-PCAM\", \"NORM-PCAM\")\n",
    "        new_name = new_name.replace(\"1-PCAM\", \"TUM-PCAM\")\n",
    "        item[\"name\"] = new_name\n",
    "\n",
    "    np.save(file_path, feat_array)\n",
    "\n",
    "load_and_rename_embeddings(\"./VisionModels/fewshot-histo/features/phikon_PCAM_features.npy\")"
   ]
  },
  {
   "cell_type": "code",
   "execution_count": null,
   "metadata": {},
   "outputs": [],
   "source": [
    "#create_img_embeddings(\"CRC100K\")\n",
    "#create_img_embeddings(\"MSSI\")"
   ]
  },
  {
   "cell_type": "code",
   "execution_count": null,
   "metadata": {},
   "outputs": [],
   "source": [
    "backend = torch.device(\"cpu\")\n",
    "feature_extractor.to(backend)\n",
    "create_img_embeddings(\"PCAM\")"
   ]
  }
 ],
 "metadata": {
  "kernelspec": {
   "display_name": "venv",
   "language": "python",
   "name": "python3"
  },
  "language_info": {
   "codemirror_mode": {
    "name": "ipython",
    "version": 3
   },
   "file_extension": ".py",
   "mimetype": "text/x-python",
   "name": "python",
   "nbconvert_exporter": "python",
   "pygments_lexer": "ipython3",
   "version": "3.11.6"
  }
 },
 "nbformat": 4,
 "nbformat_minor": 2
}
